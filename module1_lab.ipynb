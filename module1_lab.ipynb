# Install transformers
!pip install transformers

# Import pipeline
from transformers import pipeline

# Load DistilGPT2 model
generator = pipeline("text-generation", model="distilgpt2")

# Define prompt
prompt = "The future of AI engineering is"

# Generate text
output = generator(prompt, max_length=50, num_return_sequences=1)

# Print result
print(output[0]["generated_text"])
